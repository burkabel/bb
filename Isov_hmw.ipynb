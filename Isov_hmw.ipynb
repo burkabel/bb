{
 "cells": [
  {
   "cell_type": "code",
   "execution_count": 6,
   "metadata": {},
   "outputs": [
    {
     "name": "stdin",
     "output_type": "stream",
     "text": [
      "enter a number: 5000\n"
     ]
    },
    {
     "name": "stdout",
     "output_type": "stream",
     "text": [
      "0\n",
      "5000\n",
      "10000\n",
      "15000\n"
     ]
    }
   ],
   "source": [
    "katlar = 0\n",
    "katlanan = int(input(\"enter a number:\"))\n",
    "while katlar < 20000:\n",
    "    if katlar % katlanan == 0:\n",
    "        print(katlar)\n",
    "    katlar = katlar+1\n"
   ]
  },
  {
   "cell_type": "code",
   "execution_count": 5,
   "metadata": {},
   "outputs": [
    {
     "name": "stdout",
     "output_type": "stream",
     "text": [
      "toplam için 1, çıkarma için 2, bölüm için 3, çarpım için 4\n"
     ]
    },
    {
     "name": "stdin",
     "output_type": "stream",
     "text": [
      "işlem seçiminizi giriniz:  4\n",
      "ilk sayıyı girin:  5\n",
      "ikinci sayıyı girin:  6\n"
     ]
    },
    {
     "name": "stdout",
     "output_type": "stream",
     "text": [
      "30\n"
     ]
    }
   ],
   "source": [
    "def toplam(num1, num2):\n",
    "    return num1 + num2\n",
    "\n",
    "def cıkarma(num1, num2):\n",
    "    return num1 - num2\n",
    "\n",
    "def bolum(num1, num2):\n",
    "    return num1 / num2\n",
    "        \n",
    "def carpım(num1, num2):\n",
    "    return num1 * num2\n",
    "\n",
    "\n",
    "print(\"toplam için 1, çıkarma için 2, bölüm için 3, çarpım için 4\")\n",
    "\n",
    "islem = input(\"işlem seçiminizi giriniz: \")\n",
    "num1 = int(input(\"ilk sayıyı girin: \"))\n",
    "num2 = int(input(\"ikinci sayıyı girin: \"))\n",
    "\n",
    "if islem == \"1\":\n",
    "    print(toplam(num1, num2))\n",
    "    \n",
    "if islem == \"2\":\n",
    "    print(cıkarma(num1, num2))\n",
    "    \n",
    "if islem == \"3\":\n",
    "    print(bolum(num1, num2))\n",
    "    \n",
    "if islem == \"4\":\n",
    "    print(carpım(num1, num2))\n"
   ]
  },
  {
   "cell_type": "code",
   "execution_count": 18,
   "metadata": {},
   "outputs": [
    {
     "name": "stdin",
     "output_type": "stream",
     "text": [
      "Telefon numarasını öğrenmek istediğiniz kişiyi giriniz:  Hatice\n"
     ]
    },
    {
     "name": "stdout",
     "output_type": "stream",
     "text": [
      "Hatice kişisinin telefon numarası: 888 000 999\n"
     ]
    }
   ],
   "source": [
    "rehber = {\"Ali\" : \"111 222 333\",\n",
    "\"Veli\": \"444 555 666 777\",\n",
    "\"Hatice\" : \"888 000 999\"}\n",
    "aranan_kisi = input(\"Telefon numarasını öğrenmek istediğiniz kişiyi giriniz: \")\n",
    "if aranan_kisi in rehber:\n",
    "      aranan_numara = \"{} adlı kişinin telefon numarası: {}\"\n",
    "      print(aranan_kisi,\"kişisinin telefon numarası:\", rehber[aranan_kisi])\n",
    "else:\n",
    "      print(\"Aradığınız kişi rehberinizde yoktur.\")"
   ]
  },
  {
   "cell_type": "code",
   "execution_count": null,
   "metadata": {},
   "outputs": [],
   "source": []
  }
 ],
 "metadata": {
  "kernelspec": {
   "display_name": "Python 3",
   "language": "python",
   "name": "python3"
  },
  "language_info": {
   "codemirror_mode": {
    "name": "ipython",
    "version": 3
   },
   "file_extension": ".py",
   "mimetype": "text/x-python",
   "name": "python",
   "nbconvert_exporter": "python",
   "pygments_lexer": "ipython3",
   "version": "3.8.5"
  }
 },
 "nbformat": 4,
 "nbformat_minor": 4
}
